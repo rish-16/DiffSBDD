{
 "cells": [
  {
   "cell_type": "code",
   "execution_count": 46,
   "id": "be0ecd59",
   "metadata": {},
   "outputs": [],
   "source": [
    "import os, subprocess, re\n",
    "import MDAnalysis as mda\n",
    "from MDAnalysis.analysis import align\n",
    "import numpy as np\n",
    "import matplotlib.pyplot as plt"
   ]
  },
  {
   "cell_type": "code",
   "execution_count": 2,
   "id": "dab55e82",
   "metadata": {},
   "outputs": [],
   "source": [
    "PATH = \"combined_1EEI/\"\n",
    "pdb_1EE1_dir = os.listdir(PATH)"
   ]
  },
  {
   "cell_type": "code",
   "execution_count": 40,
   "id": "1579408d",
   "metadata": {},
   "outputs": [],
   "source": [
    "LIGAND_RES_THRESH = 10 # 10 angstroms from any ligand atom to nearby residue"
   ]
  },
  {
   "cell_type": "code",
   "execution_count": 41,
   "id": "5267a10e",
   "metadata": {},
   "outputs": [],
   "source": [
    "def get_pocket_residues(ligand_atoms, ligand_atom_positions, protein_residues, protein_residue_coms):\n",
    "    pocket_residues = set()\n",
    "\n",
    "    for i in range(len(ligand_atoms)):\n",
    "        atom = ligand_atoms[i]\n",
    "        atom_xyz = ligand_atom_positions[i]\n",
    "\n",
    "        for j, res in enumerate(protein_residues):\n",
    "            if np.linalg.norm(atom_xyz - protein_residue_coms[j]) < LIGAND_RES_THRESH:\n",
    "                pocket_residues.add(res)\n",
    "\n",
    "    pocket_residues = list(pocket_residues)\n",
    "    return pocket_residues"
   ]
  },
  {
   "cell_type": "code",
   "execution_count": null,
   "id": "80301bf0",
   "metadata": {},
   "outputs": [],
   "source": []
  },
  {
   "cell_type": "code",
   "execution_count": 42,
   "id": "fa504f27",
   "metadata": {},
   "outputs": [],
   "source": [
    "frame_pocket_sets = {}\n",
    "frame_universes = {}\n",
    "\n",
    "for fp in pdb_1EE1_dir:\n",
    "    if \"_bonds\" in fp: # only look at files with CONECT bond information inside\n",
    "        frame_idx = re.findall(r\"\\d+\", fp)[1]\n",
    "        pdb_fp = PATH + fp\n",
    "        frame_uni = mda.Universe(pdb_fp, format=\"PDB\")\n",
    "        ligand_atoms = frame_uni.select_atoms(\"resname MOL\")\n",
    "        protein_atoms = frame_uni.select_atoms(\"protein\")\n",
    "\n",
    "        ligand_positions = ligand_atoms.positions\n",
    "\n",
    "        protein_residues = protein_atoms.residues\n",
    "        protein_residue_coms = [res.atoms.center_of_mass() for res in protein_atoms.residues]\n",
    "\n",
    "        pocket_residues = get_pocket_residues(ligand_atoms, ligand_positions, protein_residues, protein_residue_coms)\n",
    "\n",
    "        frame_pocket_sets[frame_idx] = pocket_residues\n",
    "        frame_universes[frame_idx] = frame_uni"
   ]
  },
  {
   "cell_type": "code",
   "execution_count": 43,
   "id": "cfae3def",
   "metadata": {},
   "outputs": [
    {
     "name": "stdout",
     "output_type": "stream",
     "text": [
      "[42, '7']\n"
     ]
    }
   ],
   "source": [
    "from pprint import pprint\n",
    "\n",
    "pocket_sizes = []\n",
    "for key, val in frame_pocket_sets.items():\n",
    "    pocket_sizes.append([len(val), key])\n",
    "    \n",
    "max_pocket_info = max(pocket_sizes, key=lambda x : x[0])\n",
    "print (max_pocket_info)"
   ]
  },
  {
   "cell_type": "code",
   "execution_count": 44,
   "id": "3aef6790",
   "metadata": {},
   "outputs": [
    {
     "name": "stdout",
     "output_type": "stream",
     "text": [
      "[<Residue SER, 133>, <Residue LEU, 134>, <Residue ALA, 135>, <Residue GLY, 136>, <Residue LYS, 137>, <Residue ARG, 138>, <Residue GLU, 11>, <Residue TYR, 12>, <Residue HIE, 13>, <Residue ASN, 14>, <Residue THR, 15>, <Residue CYX, 9>, <Residue LEU, 8>, <Residue ALA, 10>, <Residue GLU, 139>, <Residue GLN, 49>, <Residue VAL, 50>, <Residue GLU, 51>, <Residue VAL, 52>, <Residue PRO, 53>, <Residue GLY, 54>, <Residue GLN, 56>, <Residue HIE, 57>, <Residue ILE, 58>, <Residue SER, 60>, <Residue GLN, 61>, <Residue LYS, 62>, <Residue ALA, 64>, <Residue ILE, 65>, <Residue MET, 68>, <Residue CYX, 86>, <Residue VAL, 87>, <Residue TRP, 88>, <Residue ASN, 89>, <Residue ASN, 90>, <Residue LYS, 91>, <Residue THR, 92>, <Residue PRO, 93>, <Residue HIE, 94>, <Residue ALA, 95>, <Residue ILE, 96>, <Residue ALA, 97>]\n"
     ]
    }
   ],
   "source": [
    "FINAL_1EEI_POCKET_RESIDUES = frame_pocket_sets[max_pocket_info[1]]\n",
    "print (FINAL_1EEI_POCKET_RESIDUES)"
   ]
  },
  {
   "cell_type": "code",
   "execution_count": 70,
   "id": "e4a457a7",
   "metadata": {},
   "outputs": [],
   "source": [
    "from MDAnalysis.analysis import rms\n",
    "\n",
    "def get_pocket_residues_rmsd(pocket_resnames, all_frame_universes_dict):\n",
    "    mda_query = \"\"\n",
    "    for res in pocket_resnames[:-1]:\n",
    "        mda_query += f\"(resid {res.resindex}) or \"\n",
    "    mda_query += f\"(resid {pocket_resnames[-1].resindex})\"\n",
    "        \n",
    "    reference_uni = all_frame_universes_dict['0'] # pick first frame\n",
    "    \n",
    "    for i in range(len(all_frame_universes_dict)):\n",
    "        if i != 0:\n",
    "            uni_to_align = all_frame_universes_dict[str(i)]\n",
    "#             align.alignto(uni_to_align, reference_uni, select=mda_query, weights=\"mass\")\n",
    "            align.alignto(uni_to_align, reference_uni)\n",
    "            \n",
    "#     for frame_idx, frame_uni in all_frame_universes_dict.items():\n",
    "        # frame_uni is a mda.Universe\n",
    "#         pocket_atoms = frame_uni.select_atoms(mda_query)\n",
    "#         print (frame_idx, len(pocket_atoms), len(pocket_atoms.residues), len(pocket_resnames), pocket_atoms.center_of_mass())\n",
    "        \n",
    "    framewise_pocket_rmsd = [(0,0) for _ in range(len(all_frame_universes_dict))]\n",
    "    ref_pocket = reference_uni.select_atoms(mda_query)\n",
    "    for i in range(len(all_frame_universes_dict)):\n",
    "        if i != 0:\n",
    "            frame_uni = all_frame_universes_dict[str(i)]\n",
    "            pocket_j = frame_uni.select_atoms(mda_query)\n",
    "            r = rms.rmsd(ref_pocket.positions, pocket_j.positions, superposition=True, center=True)\n",
    "            framewise_pocket_rmsd[i] = (r, i)\n",
    "            \n",
    "    sorted_framewise_pocket_rmsd = sorted(framewise_pocket_rmsd, key=lambda x : x[0])\n",
    "    \n",
    "#     seen = set()\n",
    "#     for f_i, frame_i_uni in all_frame_universes_dict.items():\n",
    "#         for f_j, frame_j_uni in all_frame_universes_dict.items():\n",
    "#             if int(f_i) != int(f_j) and (f_i, f_j) not in seen:\n",
    "#                 pocket_i = frame_i_uni.select_atoms(mda_query)\n",
    "#                 pocket_j = frame_j_uni.select_atoms(mda_query)\n",
    "#                 r = rms.rmsd(pocket_i.positions, pocket_j.positions, superposition=True, center=True)\n",
    "#                 framewise_pocket_rmsd[int(f_i)][int(f_j)] = r\n",
    "#                 framewise_pocket_rmsd[int(f_j)][int(f_i)] = r\n",
    "#                 seen.add((f_i, f_j))\n",
    "#                 seen.add((f_j, f_i))\n",
    "                \n",
    "    return sorted_framewise_pocket_rmsd"
   ]
  },
  {
   "cell_type": "code",
   "execution_count": 71,
   "id": "f2ac13f7",
   "metadata": {},
   "outputs": [],
   "source": [
    "sorted_framewise_pocket_rmsd_details = get_pocket_residues_rmsd(FINAL_1EEI_POCKET_RESIDUES, frame_universes)\n",
    "sorted_framewise_pocket_rmsd_labels = [rec[1] for rec in sorted_framewise_pocket_rmsd_details]\n",
    "sorted_framewise_pocket_rmsd = [rec[0] for rec in sorted_framewise_pocket_rmsd_details]"
   ]
  },
  {
   "cell_type": "code",
   "execution_count": 92,
   "id": "f3853655",
   "metadata": {},
   "outputs": [
    {
     "name": "stdout",
     "output_type": "stream",
     "text": [
      "[0, 1, 2, 31, 5, 3, 30, 13, 8, 36, 26, 7, 24, 11, 23, 4, 37, 12, 33, 32, 27, 17, 28, 25, 38, 35, 14, 29, 34, 6, 9, 21, 42, 16, 39, 15, 10, 18, 40, 44, 22, 41, 43, 19, 69, 60, 20, 53, 64, 54, 57, 62, 46, 80, 77, 48, 61, 45, 58, 56, 52, 79, 47, 49, 50, 63, 67, 78, 89, 70, 65, 81, 90, 59, 51, 68, 74, 66, 94, 71, 55, 73, 75, 98, 72, 76, 84, 91, 82, 93, 99, 88, 95, 97, 92, 85, 96, 87, 83, 86]\n"
     ]
    },
    {
     "data": {
      "image/png": "[encoded data removed]",
      "text/plain": [
       "<Figure size 1500x1000 with 1 Axes>"
      ]
     },
     "metadata": {},
     "output_type": "display_data"
    }
   ],
   "source": [
    "print (sorted_framewise_pocket_rmsd_labels)\n",
    "\n",
    "fig = plt.figure(figsize=(15, 10))\n",
    "plt.bar(height=sorted_framewise_pocket_rmsd[::4], x=range(len(sorted_framewise_pocket_rmsd_labels))[::4])\n",
    "plt.xlabel(\"Frame\", fontsize=20)\n",
    "plt.ylabel(\"RMSD from first frame\", fontsize=20)\n",
    "plt.xticks(range(len(sorted_framewise_pocket_rmsd_labels))[::4], sorted_framewise_pocket_rmsd_labels[::4], size=20, )\n",
    "plt.show()"
   ]
  },
  {
   "cell_type": "code",
   "execution_count": null,
   "id": "03469db9",
   "metadata": {},
   "outputs": [],
   "source": [
    "# each folder corresponds to the ~20 ligands generated for ONE frame\n",
    "\n",
    "generated_ligand_path_1EEI = \"1EEI_ligands/\"\n",
    "generated_ligand_framewise_dir_1EEI = os.listdir(generated_ligand_path_1EEI)"
   ]
  }
 ],
 "metadata": {
  "kernelspec": {
   "display_name": "Python 3 (ipykernel)",
   "language": "python",
   "name": "python3"
  },
  "language_info": {
   "codemirror_mode": {
    "name": "ipython",
    "version": 3
   },
   "file_extension": ".py",
   "mimetype": "text/x-python",
   "name": "python",
   "nbconvert_exporter": "python",
   "pygments_lexer": "ipython3",
   "version": "3.7.16"
  }
 },
 "nbformat": 4,
 "nbformat_minor": 5
}
