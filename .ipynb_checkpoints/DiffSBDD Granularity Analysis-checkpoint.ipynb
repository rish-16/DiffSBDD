{
 "cells": [
  {
   "cell_type": "markdown",
   "id": "6035f912",
   "metadata": {},
   "source": [
    "In this notebook, we analyse the impact of C$_\\alpha$ vs All-atom representations on the quality of drugs produced. We expect All-atom models to give fewer steric clashes and lesser strain energy for the generated molecules since it has access to the full geometry. "
   ]
  },
  {
   "cell_type": "code",
   "execution_count": 30,
   "id": "daaff42f",
   "metadata": {},
   "outputs": [],
   "source": [
    "import MDAnalysis as mda\n",
    "from MDAnalysis.analysis import align, rms\n",
    "import os, json, csv, subprocess, re\n",
    "import pandas as pd\n",
    "import numpy as np\n",
    "from pprint import pprint\n",
    "import matplotlib.pyplot as plt"
   ]
  },
  {
   "cell_type": "code",
   "execution_count": 4,
   "id": "4e3cfcc9",
   "metadata": {},
   "outputs": [
    {
     "name": "stdout",
     "output_type": "stream",
     "text": [
      "100\n"
     ]
    }
   ],
   "source": [
    "PATH_1EEI = \"test_analysis/combined_1EEI/\"\n",
    "PATH_1EEI_contents = os.listdir(PATH_1EEI)\n",
    "PATH_1EEI_contents = [path for path in PATH_1EEI_contents if \"_bonds\" in path]\n",
    "print (len(PATH_1EEI_contents))"
   ]
  },
  {
   "cell_type": "code",
   "execution_count": 17,
   "id": "ad4bd829",
   "metadata": {},
   "outputs": [],
   "source": [
    "LIGAND_RES_THRESH = 10"
   ]
  },
  {
   "cell_type": "markdown",
   "id": "5dc1836f",
   "metadata": {},
   "source": [
    "### Align frame universes"
   ]
  },
  {
   "cell_type": "code",
   "execution_count": 13,
   "id": "bc15e807",
   "metadata": {},
   "outputs": [],
   "source": [
    "all_frames_universes = {}\n",
    "\n",
    "for frame_pdb_path in PATH_1EEI_contents:\n",
    "    full_path = PATH_1EEI + frame_pdb_path\n",
    "    frame_idx = int(re.findall(r'\\d+', frame_pdb_path)[1])\n",
    "    frame_uni = mda.Universe(full_path, format=\"PDB\")\n",
    "    all_frames_universes[frame_idx] = frame_uni\n",
    "    \n",
    "base_frame = all_frames_universes[0] # get first frame\n",
    "for frame_idx, frame_uni in all_frames_universes.items():\n",
    "    if frame_idx != 0:\n",
    "        align.alignto(frame_uni, base_frame)"
   ]
  },
  {
   "cell_type": "markdown",
   "id": "8299ee26",
   "metadata": {},
   "source": [
    "Get binding pocket residues"
   ]
  },
  {
   "cell_type": "code",
   "execution_count": 18,
   "id": "913b6518",
   "metadata": {},
   "outputs": [],
   "source": [
    "def get_pocket_residues(ligand_atoms, ligand_atom_positions, protein_residues, protein_residue_coms):\n",
    "    pocket_residues = set()\n",
    "\n",
    "    for i in range(len(ligand_atoms)):\n",
    "        atom = ligand_atoms[i]\n",
    "        atom_xyz = ligand_atom_positions[i]\n",
    "\n",
    "        for j, res in enumerate(protein_residues):\n",
    "            if np.linalg.norm(atom_xyz - protein_residue_coms[j]) <= LIGAND_RES_THRESH:\n",
    "                pocket_residues.add(res)\n",
    "\n",
    "    pocket_residues = list(pocket_residues)\n",
    "    return pocket_residues"
   ]
  },
  {
   "cell_type": "code",
   "execution_count": 20,
   "id": "905af52e",
   "metadata": {},
   "outputs": [
    {
     "name": "stdout",
     "output_type": "stream",
     "text": [
      "[<Residue SER, 133>, <Residue LEU, 134>, <Residue ALA, 135>, <Residue GLY, 136>, <Residue LYS, 137>, <Residue ARG, 138>, <Residue GLU, 11>, <Residue TYR, 12>, <Residue HIE, 13>, <Residue ASN, 14>, <Residue THR, 15>, <Residue CYX, 9>, <Residue LEU, 8>, <Residue ALA, 10>, <Residue GLU, 139>, <Residue GLN, 49>, <Residue VAL, 50>, <Residue GLU, 51>, <Residue VAL, 52>, <Residue PRO, 53>, <Residue GLY, 54>, <Residue GLN, 56>, <Residue HIE, 57>, <Residue ILE, 58>, <Residue SER, 60>, <Residue GLN, 61>, <Residue LYS, 62>, <Residue ALA, 64>, <Residue ILE, 65>, <Residue MET, 68>, <Residue CYX, 86>, <Residue VAL, 87>, <Residue TRP, 88>, <Residue ASN, 89>, <Residue ASN, 90>, <Residue LYS, 91>, <Residue THR, 92>, <Residue PRO, 93>, <Residue HIE, 94>, <Residue ALA, 95>, <Residue ILE, 96>, <Residue ALA, 97>]\n",
      "42\n"
     ]
    }
   ],
   "source": [
    "best_pocket_res_set = None\n",
    "cur_best_pocket_res_set_len = float('-inf')\n",
    "\n",
    "for frame_idx, frame_uni in all_frames_universes.items():\n",
    "    ligand_atoms = frame_uni.select_atoms(\"resname MOL\")\n",
    "    protein_atoms = frame_uni.select_atoms(\"protein\")\n",
    "    \n",
    "    protein_residues = protein_atoms.residues\n",
    "    protein_residue_coms = [res.atoms.center_of_mass() for res in protein_atoms.residues]    \n",
    "\n",
    "    pocket_residues = get_pocket_residues(ligand_atoms, ligand_atoms.positions, protein_residues, protein_residue_coms)\n",
    "    \n",
    "    if len(pocket_residues) > cur_best_pocket_res_set_len:\n",
    "        cur_best_pocket_res_set_len = len(pocket_residues)\n",
    "        best_pocket_res_set = pocket_residues\n",
    "\n",
    "best_pocket_res_set = list(best_pocket_res_set)\n",
    "print (best_pocket_res_set)\n",
    "print (len(best_pocket_res_set))"
   ]
  },
  {
   "cell_type": "code",
   "execution_count": 27,
   "id": "3cc9f225",
   "metadata": {},
   "outputs": [
    {
     "name": "stdout",
     "output_type": "stream",
     "text": [
      "(resid 132) or (resid 133) or (resid 134) or (resid 135) or (resid 136) or (resid 137) or (resid 10) or (resid 11) or (resid 12) or (resid 13) or (resid 14) or (resid 8) or (resid 7) or (resid 9) or (resid 138) or (resid 48) or (resid 49) or (resid 50) or (resid 51) or (resid 52) or (resid 53) or (resid 55) or (resid 56) or (resid 57) or (resid 59) or (resid 60) or (resid 61) or (resid 63) or (resid 64) or (resid 67) or (resid 85) or (resid 86) or (resid 87) or (resid 88) or (resid 89) or (resid 90) or (resid 91) or (resid 92) or (resid 93) or (resid 94) or (resid 95) or (resid 96)\n"
     ]
    }
   ],
   "source": [
    "full_atom_mda_query = \"\"\n",
    "resolution = \"all_atom\"\n",
    "for res in best_pocket_res_set[:-1]:\n",
    "    if resolution == \"all_atom\":\n",
    "        full_atom_mda_query += f\"(resid {res.resindex}) or \"\n",
    "    elif resolution == \"ca\":\n",
    "        full_atom_mda_query += f\"(resid {res.resindex} and name CA) or \"\n",
    "full_atom_mda_query += f\"(resid {best_pocket_res_set[-1].resindex})\"\n",
    "print (full_atom_mda_query)"
   ]
  },
  {
   "cell_type": "code",
   "execution_count": 28,
   "id": "99cc8a72",
   "metadata": {},
   "outputs": [
    {
     "name": "stdout",
     "output_type": "stream",
     "text": [
      "(resid 132 and name CA) or (resid 133 and name CA) or (resid 134 and name CA) or (resid 135 and name CA) or (resid 136 and name CA) or (resid 137 and name CA) or (resid 10 and name CA) or (resid 11 and name CA) or (resid 12 and name CA) or (resid 13 and name CA) or (resid 14 and name CA) or (resid 8 and name CA) or (resid 7 and name CA) or (resid 9 and name CA) or (resid 138 and name CA) or (resid 48 and name CA) or (resid 49 and name CA) or (resid 50 and name CA) or (resid 51 and name CA) or (resid 52 and name CA) or (resid 53 and name CA) or (resid 55 and name CA) or (resid 56 and name CA) or (resid 57 and name CA) or (resid 59 and name CA) or (resid 60 and name CA) or (resid 61 and name CA) or (resid 63 and name CA) or (resid 64 and name CA) or (resid 67 and name CA) or (resid 85 and name CA) or (resid 86 and name CA) or (resid 87 and name CA) or (resid 88 and name CA) or (resid 89 and name CA) or (resid 90 and name CA) or (resid 91 and name CA) or (resid 92 and name CA) or (resid 93 and name CA) or (resid 94 and name CA) or (resid 95 and name CA) or (resid 96)\n"
     ]
    }
   ],
   "source": [
    "ca_mda_query = \"\"\n",
    "resolution = \"ca\"\n",
    "for res in best_pocket_res_set[:-1]:\n",
    "    if resolution == \"all_atom\":\n",
    "        ca_mda_query += f\"(resid {res.resindex}) or \"\n",
    "    elif resolution == \"ca\":\n",
    "        ca_mda_query += f\"(resid {res.resindex} and name CA) or \"\n",
    "ca_mda_query += f\"(resid {best_pocket_res_set[-1].resindex})\"\n",
    "print (ca_mda_query)"
   ]
  },
  {
   "cell_type": "code",
   "execution_count": 34,
   "id": "82db710c",
   "metadata": {},
   "outputs": [],
   "source": [
    "framewise_pocket_rmsd = [(0,0) for _ in range(len(all_frames_universes))]\n",
    "reference_uni = all_frames_universes[0] # pick first frame\n",
    "full_atom_ref_pocket = reference_uni.select_atoms(full_atom_mda_query)\n",
    "\n",
    "for i in range(len(all_frames_universes)):\n",
    "    if i != 0:\n",
    "        frame_uni = all_frames_universes[i]\n",
    "        full_atom_pocket_j = frame_uni.select_atoms(full_atom_mda_query)\n",
    "        r = rms.rmsd(full_atom_ref_pocket.positions, full_atom_pocket_j.positions, superposition=True, center=True)\n",
    "        framewise_pocket_rmsd[i] = (r, i)"
   ]
  },
  {
   "cell_type": "code",
   "execution_count": 35,
   "id": "bbb838b5",
   "metadata": {},
   "outputs": [
    {
     "name": "stdout",
     "output_type": "stream",
     "text": [
      "(100, 2)\n"
     ]
    }
   ],
   "source": []
  },
  {
   "cell_type": "markdown",
   "id": "bcb57495",
   "metadata": {},
   "source": [
    "Get RMSD between frames when represented using C$_\\alpha$ backbone atoms only."
   ]
  },
  {
   "cell_type": "code",
   "execution_count": null,
   "id": "7bd7e196",
   "metadata": {},
   "outputs": [],
   "source": [
    "table = [[0 for _ in range(len(all_frames_universes))] for _ in range(len(all_frames_universes))]\n",
    "\n",
    "for fid_i, f_uni_i in all_frames_universes.items():\n",
    "    for fid_j, f_uni_j in all_frames_universes.items():\n",
    "        if fid_i != fid_j:\n",
    "            "
   ]
  }
 ],
 "metadata": {
  "kernelspec": {
   "display_name": "Python 3 (ipykernel)",
   "language": "python",
   "name": "python3"
  },
  "language_info": {
   "codemirror_mode": {
    "name": "ipython",
    "version": 3
   },
   "file_extension": ".py",
   "mimetype": "text/x-python",
   "name": "python",
   "nbconvert_exporter": "python",
   "pygments_lexer": "ipython3",
   "version": "3.7.16"
  }
 },
 "nbformat": 4,
 "nbformat_minor": 5
}
