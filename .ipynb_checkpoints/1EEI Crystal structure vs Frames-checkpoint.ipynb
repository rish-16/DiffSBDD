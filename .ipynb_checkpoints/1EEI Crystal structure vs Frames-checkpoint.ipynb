{
 "cells": [
  {
   "cell_type": "code",
   "execution_count": 1,
   "id": "2ab429c6",
   "metadata": {},
   "outputs": [],
   "source": [
    "import MDAnalysis as mda\n",
    "from MDAnalysis.analysis import align, rms\n",
    "import os, json, csv, subprocess, re\n",
    "import pandas as pd\n",
    "import numpy as np\n",
    "from pprint import pprint\n",
    "import matplotlib.pyplot as plt"
   ]
  },
  {
   "cell_type": "code",
   "execution_count": 2,
   "id": "8e6685e3",
   "metadata": {},
   "outputs": [
    {
     "name": "stdout",
     "output_type": "stream",
     "text": [
      "100\n"
     ]
    }
   ],
   "source": [
    "PATH_1EEI = \"test_analysis/combined_1EEI/\"\n",
    "PATH_1EEI_contents = os.listdir(PATH_1EEI)\n",
    "PATH_1EEI_contents = [path for path in PATH_1EEI_contents if \"_bonds\" in path]\n",
    "print (len(PATH_1EEI_contents))"
   ]
  },
  {
   "cell_type": "code",
   "execution_count": 3,
   "id": "026f9572",
   "metadata": {},
   "outputs": [],
   "source": [
    "LIGAND_RES_THRESH = 10"
   ]
  },
  {
   "cell_type": "code",
   "execution_count": 35,
   "id": "14a8f4f6",
   "metadata": {},
   "outputs": [
    {
     "name": "stdout",
     "output_type": "stream",
     "text": [
      "4905\n",
      "814\n"
     ]
    }
   ],
   "source": [
    "og_cry_uni = mda.Universe(\"og_crystal_structs/1eei/1eei_protein_processed.pdb\", format=\"PDB\")\n",
    "print (len(og_cry_uni.atoms))\n",
    "og_cry_protein_atoms = og_cry_uni.select_atoms(\"protein and chainid D and not name H*\")\n",
    "print (len(og_cry_protein_atoms))"
   ]
  },
  {
   "cell_type": "code",
   "execution_count": 19,
   "id": "b185af9b",
   "metadata": {},
   "outputs": [],
   "source": [
    "all_frames_universes = {}\n",
    "\n",
    "for frame_pdb_path in PATH_1EEI_contents:\n",
    "    full_path = PATH_1EEI + frame_pdb_path\n",
    "    frame_idx = int(re.findall(r'\\d+', frame_pdb_path)[1])\n",
    "    frame_uni = mda.Universe(full_path, format=\"PDB\")\n",
    "    all_frames_universes[frame_idx] = frame_uni"
   ]
  },
  {
   "cell_type": "code",
   "execution_count": 39,
   "id": "09f71794",
   "metadata": {},
   "outputs": [
    {
     "ename": "SelectionError",
     "evalue": "Reference and trajectory atom selections do not contain the same number of atoms: \natoms:    N_ref=814, N_traj=8191\nand also not the same number of residues:\nresidues: N_ref=103, N_traj=551",
     "output_type": "error",
     "traceback": [
      "\u001b[0;31m---------------------------------------------------------------------------\u001b[0m",
      "\u001b[0;31mSelectionError\u001b[0m                            Traceback (most recent call last)",
      "\u001b[0;32m/var/folders/yk/2f1y4c2x0w10wv5vbq_yrjk80000gn/T/ipykernel_97076/4014310812.py\u001b[0m in \u001b[0;36m<module>\u001b[0;34m\u001b[0m\n\u001b[1;32m      2\u001b[0m \u001b[0;32mfor\u001b[0m \u001b[0mframe_idx\u001b[0m\u001b[0;34m,\u001b[0m \u001b[0mframe_uni\u001b[0m \u001b[0;32min\u001b[0m \u001b[0mall_frames_universes\u001b[0m\u001b[0;34m.\u001b[0m\u001b[0mitems\u001b[0m\u001b[0;34m(\u001b[0m\u001b[0;34m)\u001b[0m\u001b[0;34m:\u001b[0m\u001b[0;34m\u001b[0m\u001b[0;34m\u001b[0m\u001b[0m\n\u001b[1;32m      3\u001b[0m     \u001b[0;32mif\u001b[0m \u001b[0mframe_idx\u001b[0m \u001b[0;34m!=\u001b[0m \u001b[0;36m0\u001b[0m\u001b[0;34m:\u001b[0m\u001b[0;34m\u001b[0m\u001b[0;34m\u001b[0m\u001b[0m\n\u001b[0;32m----> 4\u001b[0;31m         \u001b[0malign\u001b[0m\u001b[0;34m.\u001b[0m\u001b[0malignto\u001b[0m\u001b[0;34m(\u001b[0m\u001b[0mframe_uni\u001b[0m\u001b[0;34m,\u001b[0m \u001b[0mog_cry_uni\u001b[0m\u001b[0;34m,\u001b[0m \u001b[0mselect\u001b[0m\u001b[0;34m=\u001b[0m\u001b[0;34m\"protein and chainid D and not name H* or chainid X\"\u001b[0m\u001b[0;34m)\u001b[0m\u001b[0;34m\u001b[0m\u001b[0;34m\u001b[0m\u001b[0m\n\u001b[0m",
      "\u001b[0;32m/opt/anaconda3/envs/pyg3/lib/python3.7/site-packages/MDAnalysis/analysis/align.py\u001b[0m in \u001b[0;36malignto\u001b[0;34m(mobile, reference, select, weights, subselection, tol_mass, strict, match_atoms)\u001b[0m\n\u001b[1;32m    490\u001b[0m                                                 \u001b[0mtol_mass\u001b[0m\u001b[0;34m=\u001b[0m\u001b[0mtol_mass\u001b[0m\u001b[0;34m,\u001b[0m\u001b[0;34m\u001b[0m\u001b[0;34m\u001b[0m\u001b[0m\n\u001b[1;32m    491\u001b[0m                                                 \u001b[0mstrict\u001b[0m\u001b[0;34m=\u001b[0m\u001b[0mstrict\u001b[0m\u001b[0;34m,\u001b[0m\u001b[0;34m\u001b[0m\u001b[0;34m\u001b[0m\u001b[0m\n\u001b[0;32m--> 492\u001b[0;31m                                                 match_atoms=match_atoms)\n\u001b[0m\u001b[1;32m    493\u001b[0m \u001b[0;34m\u001b[0m\u001b[0m\n\u001b[1;32m    494\u001b[0m     \u001b[0mweights\u001b[0m \u001b[0;34m=\u001b[0m \u001b[0mget_weights\u001b[0m\u001b[0;34m(\u001b[0m\u001b[0mref_atoms\u001b[0m\u001b[0;34m,\u001b[0m \u001b[0mweights\u001b[0m\u001b[0;34m)\u001b[0m\u001b[0;34m\u001b[0m\u001b[0;34m\u001b[0m\u001b[0m\n",
      "\u001b[0;32m/opt/anaconda3/envs/pyg3/lib/python3.7/site-packages/MDAnalysis/analysis/align.py\u001b[0m in \u001b[0;36mget_matching_atoms\u001b[0;34m(ag1, ag2, tol_mass, strict, match_atoms)\u001b[0m\n\u001b[1;32m   1329\u001b[0m                         ag1.n_residues, ag2.n_residues)\n\u001b[1;32m   1330\u001b[0m             \u001b[0mlogger\u001b[0m\u001b[0;34m.\u001b[0m\u001b[0merror\u001b[0m\u001b[0;34m(\u001b[0m\u001b[0merrmsg\u001b[0m\u001b[0;34m)\u001b[0m\u001b[0;34m\u001b[0m\u001b[0;34m\u001b[0m\u001b[0m\n\u001b[0;32m-> 1331\u001b[0;31m             \u001b[0;32mraise\u001b[0m \u001b[0mSelectionError\u001b[0m\u001b[0;34m(\u001b[0m\u001b[0merrmsg\u001b[0m\u001b[0;34m)\u001b[0m\u001b[0;34m\u001b[0m\u001b[0;34m\u001b[0m\u001b[0m\n\u001b[0m\u001b[1;32m   1332\u001b[0m         \u001b[0;32melse\u001b[0m\u001b[0;34m:\u001b[0m\u001b[0;34m\u001b[0m\u001b[0;34m\u001b[0m\u001b[0m\n\u001b[1;32m   1333\u001b[0m             msg = (\"Reference and trajectory atom selections do not contain \"\n",
      "\u001b[0;31mSelectionError\u001b[0m: Reference and trajectory atom selections do not contain the same number of atoms: \natoms:    N_ref=814, N_traj=8191\nand also not the same number of residues:\nresidues: N_ref=103, N_traj=551"
     ]
    }
   ],
   "source": [
    "base_frame = all_frames_universes[0] # get first frame\n",
    "for frame_idx, frame_uni in all_frames_universes.items():\n",
    "    if frame_idx != 0:\n",
    "        align.alignto(frame_uni, og_cry_uni, select=\"protein and chainid D and not name H* or chainid X\")"
   ]
  },
  {
   "cell_type": "code",
   "execution_count": null,
   "id": "e17884c5",
   "metadata": {},
   "outputs": [],
   "source": []
  }
 ],
 "metadata": {
  "kernelspec": {
   "display_name": "Python 3 (ipykernel)",
   "language": "python",
   "name": "python3"
  },
  "language_info": {
   "codemirror_mode": {
    "name": "ipython",
    "version": 3
   },
   "file_extension": ".py",
   "mimetype": "text/x-python",
   "name": "python",
   "nbconvert_exporter": "python",
   "pygments_lexer": "ipython3",
   "version": "3.7.16"
  }
 },
 "nbformat": 4,
 "nbformat_minor": 5
}
