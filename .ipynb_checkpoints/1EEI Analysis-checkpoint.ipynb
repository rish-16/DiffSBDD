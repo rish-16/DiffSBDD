{
 "cells": [
  {
   "cell_type": "code",
   "execution_count": 46,
   "id": "058cdd89",
   "metadata": {},
   "outputs": [],
   "source": [
    "import os, subprocess, re\n",
    "import MDAnalysis as mda\n",
    "from MDAnalysis.analysis import align\n",
    "import numpy as np\n",
    "import matplotlib.pyplot as plt"
   ]
  },
  {
   "cell_type": "code",
   "execution_count": 2,
   "id": "2d106cf0",
   "metadata": {},
   "outputs": [],
   "source": [
    "PATH = \"combined_1EEI/\"\n",
    "pdb_1EE1_dir = os.listdir(PATH)"
   ]
  },
  {
   "cell_type": "code",
   "execution_count": 40,
   "id": "b7f9d737",
   "metadata": {},
   "outputs": [],
   "source": [
    "LIGAND_RES_THRESH = 10 # 10 angstroms from any ligand atom to nearby residue"
   ]
  },
  {
   "cell_type": "code",
   "execution_count": 41,
   "id": "cd2fbe0f",
   "metadata": {},
   "outputs": [],
   "source": [
    "def get_pocket_residues(ligand_atoms, ligand_atom_positions, protein_residues, protein_residue_coms):\n",
    "    pocket_residues = set()\n",
    "\n",
    "    for i in range(len(ligand_atoms)):\n",
    "        atom = ligand_atoms[i]\n",
    "        atom_xyz = ligand_atom_positions[i]\n",
    "\n",
    "        for j, res in enumerate(protein_residues):\n",
    "            if np.linalg.norm(atom_xyz - protein_residue_coms[j]) < LIGAND_RES_THRESH:\n",
    "                pocket_residues.add(res)\n",
    "\n",
    "    pocket_residues = list(pocket_residues)\n",
    "    return pocket_residues"
   ]
  },
  {
   "cell_type": "code",
   "execution_count": null,
   "id": "dfb66086",
   "metadata": {},
   "outputs": [],
   "source": []
  },
  {
   "cell_type": "code",
   "execution_count": 42,
   "id": "41fde60b",
   "metadata": {},
   "outputs": [],
   "source": [
    "frame_pocket_sets = {}\n",
    "frame_universes = {}\n",
    "\n",
    "for fp in pdb_1EE1_dir:\n",
    "    if \"_bonds\" in fp: # only look at files with CONECT bond information inside\n",
    "        frame_idx = re.findall(r\"\\d+\", fp)[1]\n",
    "        pdb_fp = PATH + fp\n",
    "        frame_uni = mda.Universe(pdb_fp, format=\"PDB\")\n",
    "        ligand_atoms = frame_uni.select_atoms(\"resname MOL\")\n",
    "        protein_atoms = frame_uni.select_atoms(\"protein\")\n",
    "\n",
    "        ligand_positions = ligand_atoms.positions\n",
    "\n",
    "        protein_residues = protein_atoms.residues\n",
    "        protein_residue_coms = [res.atoms.center_of_mass() for res in protein_atoms.residues]\n",
    "\n",
    "        pocket_residues = get_pocket_residues(ligand_atoms, ligand_positions, protein_residues, protein_residue_coms)\n",
    "\n",
    "        frame_pocket_sets[frame_idx] = pocket_residues\n",
    "        frame_universes[frame_idx] = frame_uni"
   ]
  },
  {
   "cell_type": "code",
   "execution_count": 43,
   "id": "3b649940",
   "metadata": {},
   "outputs": [
    {
     "name": "stdout",
     "output_type": "stream",
     "text": [
      "[42, '7']\n"
     ]
    }
   ],
   "source": [
    "from pprint import pprint\n",
    "\n",
    "pocket_sizes = []\n",
    "for key, val in frame_pocket_sets.items():\n",
    "    pocket_sizes.append([len(val), key])\n",
    "    \n",
    "max_pocket_info = max(pocket_sizes, key=lambda x : x[0])\n",
    "print (max_pocket_info)"
   ]
  },
  {
   "cell_type": "code",
   "execution_count": 44,
   "id": "9f45611e",
   "metadata": {},
   "outputs": [
    {
     "name": "stdout",
     "output_type": "stream",
     "text": [
      "[<Residue SER, 133>, <Residue LEU, 134>, <Residue ALA, 135>, <Residue GLY, 136>, <Residue LYS, 137>, <Residue ARG, 138>, <Residue GLU, 11>, <Residue TYR, 12>, <Residue HIE, 13>, <Residue ASN, 14>, <Residue THR, 15>, <Residue CYX, 9>, <Residue LEU, 8>, <Residue ALA, 10>, <Residue GLU, 139>, <Residue GLN, 49>, <Residue VAL, 50>, <Residue GLU, 51>, <Residue VAL, 52>, <Residue PRO, 53>, <Residue GLY, 54>, <Residue GLN, 56>, <Residue HIE, 57>, <Residue ILE, 58>, <Residue SER, 60>, <Residue GLN, 61>, <Residue LYS, 62>, <Residue ALA, 64>, <Residue ILE, 65>, <Residue MET, 68>, <Residue CYX, 86>, <Residue VAL, 87>, <Residue TRP, 88>, <Residue ASN, 89>, <Residue ASN, 90>, <Residue LYS, 91>, <Residue THR, 92>, <Residue PRO, 93>, <Residue HIE, 94>, <Residue ALA, 95>, <Residue ILE, 96>, <Residue ALA, 97>]\n"
     ]
    }
   ],
   "source": [
    "FINAL_1EEI_POCKET_RESIDUES = frame_pocket_sets[max_pocket_info[1]]\n",
    "print (FINAL_1EEI_POCKET_RESIDUES)"
   ]
  },
  {
   "cell_type": "code",
   "execution_count": 48,
   "id": "2d6d4e8a",
   "metadata": {},
   "outputs": [
    {
     "name": "stdout",
     "output_type": "stream",
     "text": [
      "41 658 42 42 [64.48814463 42.09510196 50.6874137 ]\n",
      "56 658 42 42 [64.48814458 42.09510182 50.68741393]\n",
      "78 658 42 42 [64.4881447  42.09510189 50.68741373]\n",
      "52 658 42 42 [64.4881447  42.0951019  50.68741378]\n",
      "45 658 42 42 [64.4881447  42.09510204 50.6874139 ]\n",
      "8 658 42 42 [64.48814468 42.09510202 50.68741373]\n",
      "26 658 42 42 [64.48814466 42.09510178 50.68741391]\n",
      "31 658 42 42 [64.48814476 42.09510207 50.68741399]\n",
      "35 658 42 42 [64.48814469 42.09510198 50.68741378]\n",
      "88 658 42 42 [64.4881447  42.0951019  50.68741369]\n",
      "22 658 42 42 [64.4881448  42.09510199 50.68741379]\n",
      "32 658 42 42 [64.48814469 42.09510194 50.68741387]\n",
      "98 658 42 42 [64.48814462 42.09510179 50.68741382]\n",
      "25 658 42 42 [64.4881446  42.09510202 50.68741386]\n",
      "21 658 42 42 [64.48814475 42.09510207 50.68741383]\n",
      "36 658 42 42 [64.48814468 42.09510204 50.68741382]\n",
      "18 658 42 42 [64.48814463 42.09510199 50.68741379]\n",
      "55 658 42 42 [64.4881446  42.09510206 50.68741369]\n",
      "42 658 42 42 [64.48814486 42.09510182 50.68741388]\n",
      "46 658 42 42 [64.48814471 42.09510206 50.68741381]\n",
      "51 658 42 42 [64.48814464 42.09510204 50.68741377]\n",
      "68 658 42 42 [64.4881449  42.09510189 50.68741383]\n",
      "1 658 42 42 [64.48814481 42.09510226 50.68741379]\n",
      "62 658 42 42 [64.48814459 42.09510187 50.68741369]\n",
      "75 658 42 42 [64.48814474 42.09510209 50.68741373]\n",
      "5 658 42 42 [64.48814483 42.09510205 50.68741383]\n",
      "48 658 42 42 [64.48814477 42.09510191 50.6874138 ]\n",
      "71 658 42 42 [64.48814471 42.09510194 50.68741392]\n",
      "66 658 42 42 [64.48814479 42.09510196 50.68741367]\n",
      "81 658 42 42 [64.48814467 42.09510185 50.68741384]\n",
      "96 658 42 42 [64.4881448  42.09510202 50.68741379]\n",
      "12 658 42 42 [64.48814476 42.095102   50.68741383]\n",
      "92 658 42 42 [64.48814478 42.09510192 50.68741373]\n",
      "85 658 42 42 [64.48814471 42.09510197 50.68741374]\n",
      "38 658 42 42 [64.48814449 42.09510193 50.68741386]\n",
      "16 658 42 42 [64.48814482 42.09510187 50.68741377]\n",
      "28 658 42 42 [64.48814479 42.09510224 50.68741375]\n",
      "95 658 42 42 [64.4881445  42.09510196 50.68741378]\n",
      "82 658 42 42 [64.4881447  42.09510195 50.68741386]\n",
      "11 658 42 42 [64.48814482 42.09510215 50.68741374]\n",
      "86 658 42 42 [64.48814463 42.09510209 50.68741386]\n",
      "91 658 42 42 [64.4881446  42.09510193 50.68741367]\n",
      "15 658 42 42 [64.48814485 42.09510196 50.68741388]\n",
      "2 658 42 42 [64.48814479 42.09510186 50.68741376]\n",
      "58 658 42 42 [64.4881447  42.09510204 50.68741376]\n",
      "76 658 42 42 [64.48814459 42.09510191 50.68741391]\n",
      "61 658 42 42 [64.48814485 42.09510196 50.68741386]\n",
      "6 658 42 42 [64.48814462 42.09510209 50.6874139 ]\n",
      "65 658 42 42 [64.48814445 42.09510194 50.68741375]\n",
      "72 658 42 42 [64.48814453 42.095102   50.68741389]\n",
      "14 658 42 42 [64.48814459 42.09510202 50.68741378]\n",
      "90 658 42 42 [64.48814452 42.09510196 50.68741372]\n",
      "87 658 42 42 [64.48814482 42.09510201 50.6874137 ]\n",
      "10 658 42 42 [64.48814476 42.09510194 50.6874139 ]\n",
      "83 658 42 42 [64.48814482 42.09510191 50.68741387]\n",
      "94 658 42 42 [64.48814467 42.09510181 50.6874137 ]\n",
      "29 658 42 42 [64.48814465 42.09510198 50.68741376]\n",
      "73 658 42 42 [64.48814464 42.09510185 50.68741393]\n",
      "64 658 42 42 [64.4881446  42.09510196 50.68741373]\n",
      "7 658 42 42 [64.48814491 42.09510189 50.68741383]\n",
      "60 658 42 42 [64.48814469 42.09510182 50.68741389]\n",
      "77 658 42 42 [64.48814463 42.09510184 50.68741379]\n",
      "59 658 42 42 [64.48814458 42.09510191 50.68741382]\n",
      "3 658 42 42 [64.48814463 42.09510189 50.68741374]\n",
      "67 658 42 42 [64.48814458 42.09510199 50.68741393]\n",
      "70 658 42 42 [64.48814469 42.0951021  50.68741395]\n",
      "4 658 42 42 [64.48814463 42.09510192 50.68741377]\n",
      "49 658 42 42 [64.48814471 42.095102   50.68741383]\n",
      "74 658 42 42 [64.48814485 42.09510189 50.68741369]\n",
      "63 658 42 42 [64.48814472 42.09510199 50.68741383]\n",
      "0 658 42 42 [64.48814478 42.09510192 50.68741379]\n",
      "17 658 42 42 [64.48814475 42.09510185 50.68741366]\n",
      "39 658 42 42 [64.48814482 42.09510187 50.68741377]\n",
      "84 658 42 42 [64.48814481 42.09510205 50.68741383]\n",
      "93 658 42 42 [64.4881447  42.09510203 50.68741373]\n",
      "13 658 42 42 [64.48814486 42.09510214 50.68741382]\n",
      "97 658 42 42 [64.48814457 42.09510182 50.68741371]\n",
      "80 658 42 42 [64.48814469 42.09510184 50.68741371]\n",
      "19 658 42 42 [64.48814486 42.09510191 50.68741385]\n",
      "37 658 42 42 [64.48814457 42.09510199 50.68741396]\n",
      "20 658 42 42 [64.48814473 42.09510196 50.68741366]\n",
      "24 658 42 42 [64.48814476 42.0951019  50.68741371]\n",
      "99 658 42 42 [64.48814465 42.09510192 50.68741381]\n",
      "33 658 42 42 [64.48814464 42.09510202 50.68741384]\n",
      "69 658 42 42 [64.4881447  42.09510199 50.68741383]\n",
      "50 658 42 42 [64.48814472 42.09510202 50.68741392]\n",
      "47 658 42 42 [64.48814468 42.09510197 50.68741386]\n",
      "43 658 42 42 [64.48814465 42.09510201 50.68741379]\n",
      "54 658 42 42 [64.48814465 42.09510179 50.6874138 ]\n",
      "44 658 42 42 [64.48814475 42.09510198 50.68741369]\n",
      "9 658 42 42 [64.48814459 42.09510193 50.68741378]\n",
      "53 658 42 42 [64.48814461 42.09510198 50.68741385]\n",
      "79 658 42 42 [64.48814462 42.095102   50.68741383]\n",
      "57 658 42 42 [64.48814466 42.09510185 50.68741389]\n",
      "40 658 42 42 [64.48814473 42.09510194 50.68741386]\n",
      "23 658 42 42 [64.48814484 42.09510183 50.68741375]\n",
      "89 658 42 42 [64.48814468 42.09510194 50.68741383]\n",
      "34 658 42 42 [64.48814459 42.09510189 50.68741369]\n",
      "30 658 42 42 [64.48814462 42.0951019  50.68741378]\n",
      "27 658 42 42 [64.48814462 42.09510195 50.68741385]\n"
     ]
    }
   ],
   "source": [
    "def get_pocket_residues_rmsd(pocket_resnames, all_frame_universes_dict):\n",
    "    mda_query = \"\"\n",
    "    for res in pocket_resnames[:-1]:\n",
    "        mda_query += f\"(resid {res.resindex}) or \"\n",
    "    mda_query += f\"(resid {pocket_resnames[-1].resindex})\"\n",
    "        \n",
    "    reference_uni = all_frame_universes_dict['0'] # pick first frame\n",
    "    \n",
    "    for i in range(len(all_frame_universes_dict)):\n",
    "        if i != 0:\n",
    "            uni_to_align = all_frame_universes_dict[str(i)]\n",
    "            align.alignto(uni_to_align, reference_uni)\n",
    "            \n",
    "    for frame_idx, frame_uni in all_frame_universes_dict.items():\n",
    "        # frame_uni is a mda.Universe\n",
    "        pocket_atoms = frame_uni.select_atoms(mda_query)\n",
    "        print (frame_idx, len(pocket_atoms), len(pocket_atoms.residues), len(pocket_resnames), pocket_atoms.center_of_mass())\n",
    "        \n",
    "    framewise_rmsd = [[0 for _ in range(len(all_frame_universes_dict))] for _ in range(len(all_frame_universes_dict))]\n",
    "    \n",
    "    for f_i, frame_i_uni in all_frame_universes_dict.items():\n",
    "        for f_j, frame_j_uni in all_frame_universes_dict.items():\n",
    "            rmsd.append()\n",
    "        \n",
    "get_pocket_residues_rmsd(FINAL_1EEI_POCKET_RESIDUES, frame_universes)"
   ]
  },
  {
   "cell_type": "code",
   "execution_count": null,
   "id": "d2556984",
   "metadata": {},
   "outputs": [],
   "source": []
  }
 ],
 "metadata": {
  "kernelspec": {
   "display_name": "Python 3 (ipykernel)",
   "language": "python",
   "name": "python3"
  },
  "language_info": {
   "codemirror_mode": {
    "name": "ipython",
    "version": 3
   },
   "file_extension": ".py",
   "mimetype": "text/x-python",
   "name": "python",
   "nbconvert_exporter": "python",
   "pygments_lexer": "ipython3",
   "version": "3.7.16"
  }
 },
 "nbformat": 4,
 "nbformat_minor": 5
}
