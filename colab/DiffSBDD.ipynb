{
  "nbformat": 4,
  "nbformat_minor": 0,
  "metadata": {
    "colab": {
      "provenance": [],
      "collapsed_sections": [],
      "authorship_tag": "ABX9TyMP7IDH7JfDywxYPhLaF6qZ"
    },
    "kernelspec": {
      "name": "python3",
      "display_name": "Python 3"
    },
    "language_info": {
      "name": "python"
    },
    "accelerator": "GPU"
  },
  "cells": [
    {
      "cell_type": "markdown",
      "source": [
        "# DiffSBDD: Structure-based Drug Design with Equivariant Diffusion Models\n",
        "\n",
        "<!-- [**[Paper]**](https://arxiv.org/abs/<INDEX>) -->\n",
        "[**[Code]**](https://github.com/arneschneuing/DiffSBDD)\n",
        "\n",
        "Make sure to select `Runtime` -> `Change runtime type` -> `GPU` before you run the script.\n",
        "\n",
        "<img src=\"https://raw.githubusercontent.com/arneschneuing/DiffSBDD/main/img/overview.png\" height=250>"
      ],
      "metadata": {
        "id": "m12HrhIsNKkS"
      }
    },
    {
      "cell_type": "code",
      "source": [
        "#@title Settings\n",
        "from google.colab import files\n",
        "from google.colab import output\n",
        "output.enable_custom_widget_manager()\n",
        "import os.path\n",
        "from pathlib import Path\n",
        "import urllib\n",
        "import os\n",
        "\n",
        "\n",
        "#@markdown ## Upload target PDB structure & define pocket\n",
        "input_dir = Path(\"/content/input_pdbs/\")\n",
        "output_dir = Path(\"/content/output_sdfs/\")\n",
        "input_dir.mkdir(exist_ok=True)\n",
        "output_dir.mkdir(exist_ok=True)\n",
        "\n",
        "target = \"example (3rfm)\" #@param [\"example (3rfm)\", \"upload structure\"]\n",
        "\n",
        "if target == \"example (3rfm)\":\n",
        "  pdbfile = Path(input_dir, '3rfm.pdb')\n",
        "  urllib.request.urlretrieve('http://files.rcsb.org/download/3rfm.pdb', pdbfile)\n",
        "\n",
        "elif target == \"upload structure\":\n",
        "  uploaded = files.upload()\n",
        "  fn = list(uploaded.keys())[0]\n",
        "  pdbfile = Path(fn).rename(Path(input_dir, fn))\n",
        "\n",
        "\n",
        "pocket_residues = 'A:9 A:59 A:60 A:62 A:63 A:64 A:66 A:67 A:80 A:81 A:84 A:85 A:88 A:167 A:168 A:169 A:170 A:172 A:174 A:177 A:181 A:246 A:249 A:250 A:252 A:253 A:256 A:265 A:267 A:270 A:271 A:273 A:274 A:275 A:277 A:278' #@param {type:\"string\"}\n",
        "#@markdown - Define pocket residues as a list, where each residue is specified as `<chain_id>:<res_id>`, e.g, `A:1 A:2 A:3 A:4 A:5 A:6 A:7`\n",
        "\n",
        "#@markdown ## Sampling\n",
        "n_samples = 20 #@param {type:\"slider\", min:1, max:100, step:1}\n",
        "ligand_nodes = 20 #@param {type:\"integer\"}\n",
        "\n",
        "mode = \"conditional_full_atom\" #@param [\"conditional_full_atom\", \"inpaint_ca\"]\n",
        "checkpoint = Path('DiffSBDD', 'checkpoints', 'full_atom.ckpt') if mode == \"conditional_full_atom\" else Path('DiffSBDD', 'checkpoints', 'ca_inpaint.ckpt')\n",
        "\n",
        "timesteps = 1000 #@param {type:\"slider\", min:1, max:1000, step:1}\n",
        "#@markdown - `timesteps < 1000` is an experimental feature\n",
        "\n",
        "#@markdown  ## Only inpainting mode\n",
        "resamplings = 1 #@param {type:\"integer\"}\n",
        "jump_length = 1 #@param {type:\"integer\"}\n",
        "\n",
        "#@markdown  ## Post-processing\n",
        "keep_all_fragments = False #@param {type:\"boolean\"}\n",
        "keep_all_fragments = \"--all_frags\" if keep_all_fragments else \"\"\n",
        "sanitize = True #@param {type:\"boolean\"}\n",
        "sanitize = \"--sanitize\" if sanitize else \"\"\n",
        "relax = True #@param {type:\"boolean\"}\n",
        "relax = \"--relax\" if relax else \"\""
      ],
      "metadata": {
        "id": "VQ6xa7EPMtyI",
        "cellView": "form"
      },
      "execution_count": 1,
      "outputs": []
    },
    {
      "cell_type": "markdown",
      "source": [
        "<details>\n",
        "<summary>Tip</summary>\n",
        "\n",
        "If you're using PyMOL and your target structure contains a reference ligand, you can obtain a list of pocket residues as follows:\n",
        "```bash\n",
        "select byres(3rfm within 8 of resi 330) and not resi 330\n",
        "stored.residues = []; iterate sele and name CA, stored.residues.append(\"A:{}\".format(resi))\n",
        "print(' '.join(stored.residues))\n",
        "```\n",
        "These are the commands we used for the example target protein (PDB ID: 3rfm). The reference ligand has residue ID 330 in this case.\n",
        "</details>"
      ],
      "metadata": {
        "id": "0hQ9VKz1bCJx"
      }
    },
    {
      "cell_type": "code",
      "source": [
        "#@title Install dependencies (this will take about 10 minutes)\n",
        "%%bash\n",
        "\n",
        "set -e # Exit immediately if a command exits with a non-zero status.\n",
        "\n",
        "if [ ! -f READY ]; then\n",
        "\n",
        "  # Unset PYTHONPATH\n",
        "  env PYTHONPATH=\n",
        "\n",
        "  # Install Miniconda\n",
        "  wget -q https://repo.anaconda.com/miniconda/Miniconda3-latest-Linux-x86_64.sh >/dev/null\n",
        "  bash Miniconda3-latest-Linux-x86_64.sh -b -f -p /usr/local >/dev/null\n",
        "\n",
        "  # Install dependencies\n",
        "  git clone https://github.com/arneschneuing/DiffSBDD.git\n",
        "\n",
        "  conda install pytorch=1.12.1 cudatoolkit=10.2 -c pytorch >/dev/null\n",
        "  conda install -c conda-forge pytorch-lightning=1.7.4 >/dev/null\n",
        "  conda install -c conda-forge wandb=0.13.1 >/dev/null\n",
        "  conda install -c conda-forge rdkit=2022.03.2 >/dev/null\n",
        "  conda install -c conda-forge biopython=1.79 >/dev/null\n",
        "  conda install -c conda-forge imageio=2.21.2 >/dev/null\n",
        "  conda install -c anaconda scipy=1.7.3 >/dev/null\n",
        "  conda install -c pyg pytorch-scatter=2.0.9 >/dev/null\n",
        "  conda install -c conda-forge openbabel=3.1.1 >/dev/null\n",
        "  conda install -c conda-forge networkx=2.8.6 >/dev/null\n",
        "\n",
        "  pip install py3Dmol==1.8.1 >/dev/null\n",
        "\n",
        "  touch READY\n",
        "fi"
      ],
      "metadata": {
        "id": "9ICnpcGvdr-J",
        "cellView": "form"
      },
      "execution_count": null,
      "outputs": []
    },
    {
      "cell_type": "code",
      "source": [
        "#@title Run sampling\n",
        "%%capture\n",
        "\n",
        "!python DiffSBDD/generate_ligands.py $checkpoint --pdbfile $pdbfile --outdir $output_dir --resi_list $pocket_residues --n_samples $n_samples --num_nodes_lig $ligand_nodes --resamplings $resamplings --jump_length $jump_length $keep_all_fragments $sanitize $relax"
      ],
      "metadata": {
        "cellView": "form",
        "id": "ZYl2UhY5xgI_"
      },
      "execution_count": 4,
      "outputs": []
    },
    {
      "cell_type": "code",
      "source": [
        "#@title Show generated molecules\n",
        "\n",
        "import sys\n",
        "sys.path.append(\"/usr/local/lib/python3.9/site-packages\")\n",
        "import py3Dmol\n",
        "\n",
        "view = py3Dmol.view(js='https://3dmol.org/build/3Dmol.js',)\n",
        "view.addModel(open(pdbfile, 'r').read(), 'pdb')\n",
        "view.setStyle({'model': -1}, {'cartoon': {'color': 'lime'}})\n",
        "# view.addSurface(py3Dmol.VDW, {'opacity': 0.4, 'color': 'lime'})\n",
        "view.addModelsAsFrames(open(Path(output_dir, f\"{pdbfile.stem}_mol.sdf\"), 'r').read())\n",
        "view.setStyle({'model': -1}, {'stick': {}})\n",
        "view.zoomTo({'model': -1})\n",
        "view.zoom(0.5)\n",
        "if target == \"example (3rfm)\":\n",
        "  view.rotate(90, 'y')\n",
        "view.animate({'loop': \"forward\", 'interval': 1000})\n",
        "view.show()"
      ],
      "metadata": {
        "cellView": "form",
        "id": "lVyysoc0Rp_-"
      },
      "execution_count": null,
      "outputs": []
    },
    {
      "cell_type": "code",
      "source": [
        "#@title Download .sdf file\n",
        "files.download(Path(output_dir, f\"{pdbfile.stem}_mol.sdf\"))"
      ],
      "metadata": {
        "colab": {
          "base_uri": "https://localhost:8080/",
          "height": 34
        },
        "cellView": "form",
        "id": "3lQUv8rmQRd_",
        "outputId": "07d10909-cd71-4e3b-ebe4-4f4aa03da0b4"
      },
      "execution_count": null,
      "outputs": [
        {
          "output_type": "display_data",
          "data": {
            "text/plain": [
              "<IPython.core.display.Javascript object>"
            ],
            "application/javascript": [
              "\n",
              "    async function download(id, filename, size) {\n",
              "      if (!google.colab.kernel.accessAllowed) {\n",
              "        return;\n",
              "      }\n",
              "      const div = document.createElement('div');\n",
              "      const label = document.createElement('label');\n",
              "      label.textContent = `Downloading \"${filename}\": `;\n",
              "      div.appendChild(label);\n",
              "      const progress = document.createElement('progress');\n",
              "      progress.max = size;\n",
              "      div.appendChild(progress);\n",
              "      document.body.appendChild(div);\n",
              "\n",
              "      const buffers = [];\n",
              "      let downloaded = 0;\n",
              "\n",
              "      const channel = await google.colab.kernel.comms.open(id);\n",
              "      // Send a message to notify the kernel that we're ready.\n",
              "      channel.send({})\n",
              "\n",
              "      for await (const message of channel.messages) {\n",
              "        // Send a message to notify the kernel that we're ready.\n",
              "        channel.send({})\n",
              "        if (message.buffers) {\n",
              "          for (const buffer of message.buffers) {\n",
              "            buffers.push(buffer);\n",
              "            downloaded += buffer.byteLength;\n",
              "            progress.value = downloaded;\n",
              "          }\n",
              "        }\n",
              "      }\n",
              "      const blob = new Blob(buffers, {type: 'application/binary'});\n",
              "      const a = document.createElement('a');\n",
              "      a.href = window.URL.createObjectURL(blob);\n",
              "      a.download = filename;\n",
              "      div.appendChild(a);\n",
              "      a.click();\n",
              "      div.remove();\n",
              "    }\n",
              "  "
            ]
          },
          "metadata": {}
        },
        {
          "output_type": "display_data",
          "data": {
            "text/plain": [
              "<IPython.core.display.Javascript object>"
            ],
            "application/javascript": [
              "download(\"download_c25cf85a-3743-44ba-a697-83b9304dd34e\", \"6k41_mol.sdf\", 15244)"
            ]
          },
          "metadata": {}
        }
      ]
    }
  ]
}